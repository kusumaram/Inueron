{
 "cells": [
  {
   "cell_type": "markdown",
   "id": "47927667-a6a0-4c50-bcf5-4e1440a3b365",
   "metadata": {},
   "source": [
    "1. Why are functions advantageous to have in your programs?\n",
    "\n",
    "Functions increases the re-usability and reduces the repeatability of the code."
   ]
  },
  {
   "cell_type": "markdown",
   "id": "943cf5de-a03f-4ab6-9798-bd7d5e7ce8c0",
   "metadata": {},
   "source": [
    "2. When does the code in a function run: when it's specified or when it's called?\n",
    "\n",
    "the code in a function run when it is called"
   ]
  },
  {
   "cell_type": "markdown",
   "id": "10da7db3-13b3-4548-bbef-7e408620ef8e",
   "metadata": {},
   "source": [
    "3. What statement creates a function?\n",
    "\n",
    "def is a keyword used to create a function followed by function name.\n",
    "example:\n",
    "def sample():\n",
    "    do something"
   ]
  },
  {
   "cell_type": "markdown",
   "id": "060c9389-cd41-4df5-97f0-7588cc8ad0e8",
   "metadata": {},
   "source": [
    "4. What is the difference between a function and a function call?\n",
    "\n",
    "* Function is a block of code where we write a code to satisfy the functionality of a task.\n",
    "* function call is actually invoking that function to execute the steps inside the function"
   ]
  },
  {
   "cell_type": "markdown",
   "id": "2081195c-7cb5-42d3-88d9-e11806dc1c30",
   "metadata": {},
   "source": [
    "5. How many global scopes are there in a Python program? How many local scopes?\n",
    "\n",
    "* There will be 1 global scope in a Python program\n",
    "* local scopes will depend on how many functions are there in a python program. If you have 'n' functions then you will have 'n' local scopes"
   ]
  },
  {
   "cell_type": "markdown",
   "id": "80268a28-4eb0-40f5-adaa-50b1f49c94a0",
   "metadata": {},
   "source": [
    "6. What happens to variables in a local scope when the function call returns?\n",
    "\n",
    "when you return a variable of a function then it will return value of the variable when the function is called. \n",
    "program does not change any value of the variable outside the function"
   ]
  },
  {
   "cell_type": "code",
   "execution_count": 15,
   "id": "fdabb82f-dd2a-4c21-8edc-1e2a7e2e5c5c",
   "metadata": {},
   "outputs": [
    {
     "name": "stdout",
     "output_type": "stream",
     "text": [
      "20\n",
      "<class 'NoneType'>\n"
     ]
    },
    {
     "data": {
      "text/plain": [
       "int"
      ]
     },
     "execution_count": 15,
     "metadata": {},
     "output_type": "execute_result"
    }
   ],
   "source": [
    "def test():\n",
    "    global a \n",
    "    a = 10\n",
    "    return a\n",
    "\n",
    "t = test()\n",
    "t = t+a\n",
    "print(t)\n",
    "print(type(None))\n",
    "type(test())\n"
   ]
  },
  {
   "cell_type": "markdown",
   "id": "a360c1ec-36f0-4f4c-9b25-7494b186ab0c",
   "metadata": {},
   "source": [
    "7. What is the concept of a return value? Is it possible to have a return value in an expression?\n",
    "\n",
    "return is a keyword used, inside a function and to send the result of a function to the caller.\n",
    "yes, we can use the return value in an expression."
   ]
  },
  {
   "cell_type": "markdown",
   "id": "f8cf8d6c-7ad6-4af9-9d4f-6418fad31bf6",
   "metadata": {},
   "source": [
    "8. If a function does not have a return statement, what is the return value of a call to that function?\n",
    "\n",
    "The return value of a fuction which does not have a return statement is None."
   ]
  },
  {
   "cell_type": "markdown",
   "id": "108c8a82-7d2d-4746-92bb-5d1e9a7d578c",
   "metadata": {},
   "source": [
    "9. How do you make a function variable refer to the global variable?\n",
    "\n",
    "to make a function variable as global variable we need to use 'global' keyword when we are defining the variable\n",
    "example:\n",
    "def test():\n",
    "    global a"
   ]
  },
  {
   "cell_type": "markdown",
   "id": "1fd3c663-6ea9-4442-83a0-7a0fee96f6dc",
   "metadata": {},
   "source": [
    "10. What is the data type of None?\n",
    "\n",
    "None is NoneType"
   ]
  },
  {
   "cell_type": "markdown",
   "id": "a57d528e-71f5-43bf-9308-b9d9afb5316f",
   "metadata": {},
   "source": [
    "11. What does the sentence import areallyourpetsnamederic do?\n",
    "\n",
    "it will make available the code of the module named areallyourpetsnamederic into the current module."
   ]
  },
  {
   "cell_type": "markdown",
   "id": "64bf9d1c-187e-45b4-a271-eef20d44af24",
   "metadata": {},
   "source": [
    "12. If you had a bacon() feature in a spam module, what would you call it after importing spam?\n",
    "\n",
    "spam.bacon()"
   ]
  },
  {
   "cell_type": "markdown",
   "id": "af6ba8d8-245d-4eb2-9bce-ad5037881e4a",
   "metadata": {},
   "source": [
    "13. What can you do to save a programme from crashing if it encounters an error?\n",
    "\n",
    "we can use exception handling to handle the errors with the help "
   ]
  },
  {
   "cell_type": "markdown",
   "id": "70d4921b-25d1-4898-a2d7-0b3cae85dff2",
   "metadata": {},
   "source": [
    "14. What is the purpose of the try clause? What is the purpose of the except clause?\n",
    "\n",
    "try except blocks are used to handle the errors without halting the execution of a program.\n",
    "\n",
    "we write code which might raise any errors in try block, and those errors are handle in except block."
   ]
  }
 ],
 "metadata": {
  "kernelspec": {
   "display_name": "Python 3 (ipykernel)",
   "language": "python",
   "name": "python3"
  },
  "language_info": {
   "codemirror_mode": {
    "name": "ipython",
    "version": 3
   },
   "file_extension": ".py",
   "mimetype": "text/x-python",
   "name": "python",
   "nbconvert_exporter": "python",
   "pygments_lexer": "ipython3",
   "version": "3.10.6"
  }
 },
 "nbformat": 4,
 "nbformat_minor": 5
}
