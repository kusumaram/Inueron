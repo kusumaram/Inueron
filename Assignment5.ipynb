{
 "cells": [
  {
   "cell_type": "markdown",
   "id": "8fefcf98-415d-4c9f-a484-6a6cd5fd4a89",
   "metadata": {},
   "source": [
    "1. What does an empty dictionary's code look like?"
   ]
  },
  {
   "cell_type": "code",
   "execution_count": 1,
   "id": "062a8b16-a10c-42f5-8459-7883714094fb",
   "metadata": {},
   "outputs": [
    {
     "data": {
      "text/plain": [
       "dict"
      ]
     },
     "execution_count": 1,
     "metadata": {},
     "output_type": "execute_result"
    }
   ],
   "source": [
    "d = dict()\n",
    "type(d)"
   ]
  },
  {
   "cell_type": "markdown",
   "id": "17584d00-9bf9-4b03-90c8-39f8e3fe82ab",
   "metadata": {},
   "source": [
    "2. What is the value of a dictionary value with the key 'foo' and the value 42?\n",
    "\n",
    "42 is the dictionary value"
   ]
  },
  {
   "cell_type": "markdown",
   "id": "e060d1bc-60e8-45e7-abbe-d5a9fb83e91e",
   "metadata": {},
   "source": [
    "3. What is the most significant distinction between a dictionary and a list?\n",
    "\n",
    "list stores and accesses it's values using indeces. list use square brackets []. list is an oredered collection\n",
    "Dictionary stores elements in key value pairs. To access a value, we use associated key. Dictionary uses curly brackets {}\n",
    "\n",
    "for example:\n",
    "\n",
    "a = list1[1]\n",
    "b = dictionary['name']"
   ]
  },
  {
   "cell_type": "markdown",
   "id": "f86ea85a-61e0-45b7-b7f3-c40f67cb4745",
   "metadata": {},
   "source": [
    "4. What happens if you try to access spam['foo'] if spam is {'bar': 100}?\n",
    "\n",
    "It will throw a 'key error' saying 'foo' is not specified"
   ]
  },
  {
   "cell_type": "markdown",
   "id": "f4fed8ae-fa5e-4e54-a17b-4d32bbf394be",
   "metadata": {},
   "source": [
    "5. If a dictionary is stored in spam, what is the difference between the expressions'cat' in spam and 'cat' in spam.keys()?\n",
    "\n",
    "the 'in' operator checks whether there is a 'cat' in the keys of spam dictionary, if present then returns True otherwise returns False"
   ]
  },
  {
   "cell_type": "markdown",
   "id": "32eb7b40-a654-4fac-8500-cf8e608166b0",
   "metadata": {},
   "source": [
    "6. If a dictionary is stored in spam, what is the difference between the expressions 'cat' in spam and 'cat' in spam.values()?\n",
    "\n",
    "the 'in' operator checks whether there is a 'cat' in the values of spam dictionary, if present then returns True otherwise returns False"
   ]
  },
  {
   "cell_type": "markdown",
   "id": "1a0a608a-7a67-45b3-9628-478b8d9d4de4",
   "metadata": {},
   "source": [
    "7. What is a shortcut for the following code?\n",
    "if 'color' not in spam:\n",
    "spam['color'] = 'black'\n",
    "\n",
    "d = {'color':'black' if 'color' not in spam.keys() else (k, v) for k,v in spam.items()}"
   ]
  },
  {
   "cell_type": "markdown",
   "id": "9f27eb80-2add-4744-8ae0-36e8143ba5e1",
   "metadata": {},
   "source": [
    "8. How do you \"pretty print\" dictionary values using which module and function?\n",
    "\n",
    "we need to import pprint module and pprint() method to use pretty print dictionary values.\n"
   ]
  },
  {
   "cell_type": "code",
   "execution_count": 13,
   "id": "6c1d4bdd-d6e8-46bc-ada8-4d99a248ce76",
   "metadata": {},
   "outputs": [
    {
     "name": "stdout",
     "output_type": "stream",
     "text": [
      "[{'Age': '23', 'Country': 'USA', 'Name': 'John'},\n",
      " {'Age': '44', 'Country': 'Spain', 'Name': 'Jose'},\n",
      " {'Age': '29', 'Country': 'UK', 'Name': 'Anne'},\n",
      " {'Age': '35', 'Country': 'Japan', 'Name': 'Lee'}]\n"
     ]
    }
   ],
   "source": [
    "import pprint\n",
    "\n",
    "l_d = [\n",
    "  {'Name': 'John', 'Age': '23', 'Country': 'USA'},\n",
    "  {'Name': 'Jose', 'Age': '44', 'Country': 'Spain'},\n",
    "  {'Name': 'Anne', 'Age': '29', 'Country': 'UK'},\n",
    "  {'Name': 'Lee', 'Age': '35', 'Country': 'Japan'}\n",
    "]\n",
    "\n",
    "\n",
    "pprint.pprint(d)"
   ]
  },
  {
   "cell_type": "code",
   "execution_count": null,
   "id": "d4973f26-abf1-401c-9e55-710ce75a1612",
   "metadata": {},
   "outputs": [],
   "source": []
  },
  {
   "cell_type": "code",
   "execution_count": null,
   "id": "16d9aca5-0b0e-4096-8c31-5ff58aff0e73",
   "metadata": {},
   "outputs": [],
   "source": []
  },
  {
   "cell_type": "code",
   "execution_count": null,
   "id": "c48b7870-08af-4cff-98b9-65bdc8210f83",
   "metadata": {},
   "outputs": [],
   "source": []
  }
 ],
 "metadata": {
  "kernelspec": {
   "display_name": "Python 3 (ipykernel)",
   "language": "python",
   "name": "python3"
  },
  "language_info": {
   "codemirror_mode": {
    "name": "ipython",
    "version": 3
   },
   "file_extension": ".py",
   "mimetype": "text/x-python",
   "name": "python",
   "nbconvert_exporter": "python",
   "pygments_lexer": "ipython3",
   "version": "3.10.6"
  }
 },
 "nbformat": 4,
 "nbformat_minor": 5
}
