{
 "cells": [
  {
   "cell_type": "markdown",
   "id": "d2fd6dd7-3fd5-46ac-aa92-f5a392566cb4",
   "metadata": {},
   "source": [
    "1. In the below elements which of them are values or an expression? eg:- values can be\n",
    "integer or string and expressions will be mathematical operators.\n",
    "*\n",
    "'hello'\n",
    "-87.8\n",
    "-\n",
    "/\n",
    "+\n",
    "6"
   ]
  },
  {
   "cell_type": "markdown",
   "id": "8ace9f82-5c7b-4a1d-be51-2f3d5c1ad83a",
   "metadata": {},
   "source": [
    "*        --> is an expression\n",
    "'hello'  --> is a value\n",
    "-87.8    --> is a value\n",
    "-        --> is an expression\n",
    "/        --> is an expression\n",
    "+        --> is an expression\n",
    "6        --> is a value"
   ]
  },
  {
   "cell_type": "markdown",
   "id": "f5005d10-a8b6-42f6-b4b0-f64b6c7298c3",
   "metadata": {},
   "source": [
    "2. What is the difference between string and variable?\n",
    "\n",
    "String is a value\n",
    "variable is a name given to a memory location where the values are stored"
   ]
  },
  {
   "cell_type": "markdown",
   "id": "1f96b607-3fd8-4d81-a46d-e7a478510c82",
   "metadata": {},
   "source": [
    "3. Describe three different data types.\n",
    "\n",
    "Numeric Data type:-\n",
    "    Numeric data type is used to hold numeric values like int, float, complex. int holds whole numbers, float holds decimal numbers, and complex hold complex numbers, should ends with 'j'.\n",
    "String Data type:-\n",
    "    String data type is a sequecence of characters and it should be presented in single or double quotes\n",
    "Boolean Data type:-\n",
    "    bool is a boolean data type which represents either True or False."
   ]
  },
  {
   "cell_type": "markdown",
   "id": "332eb669-6073-44d7-a743-d5b547168179",
   "metadata": {},
   "source": [
    "4. What is an expression made up of? What do all expressions do?\n",
    "\n",
    "An expression is contains operators and operands. it evaluates the operands and operators, and produce a value."
   ]
  },
  {
   "cell_type": "markdown",
   "id": "b7b24a3b-a369-4f2a-96fc-a21c2d601a5e",
   "metadata": {},
   "source": [
    "5. This assignment statements, like spam = 10. What is the difference between an\n",
    "expression and a statement?\n",
    "\n",
    "A statement is an instruction that the Python interpreter can execute.\n",
    "An expression is a combination of values, variables, and operators. \n",
    "All expression can be a statement but all statements can not be an expression."
   ]
  },
  {
   "cell_type": "markdown",
   "id": "8e21bdbd-d3ab-4a71-8934-65ec9ea48a85",
   "metadata": {},
   "source": [
    "6. After running the following code, what does the variable bacon contain?\n",
    "bacon = 22\n",
    "bacon + 1\n",
    "\n",
    "the variable bacon contain '22'"
   ]
  },
  {
   "cell_type": "markdown",
   "id": "4dbd61cf-5467-469f-9810-6883269a09b3",
   "metadata": {},
   "source": [
    "7. What should the values of the following two terms be?\n",
    "'spam' + 'spamspam'     --> 'spamspamspam'\n",
    "'spam' * 3              -->'spamspamspam'"
   ]
  },
  {
   "cell_type": "markdown",
   "id": "554aa324-ab46-448a-9d9a-cd5f2b791896",
   "metadata": {},
   "source": [
    "8. Why is eggs a valid variable name while 100 is invalid?\n",
    "\n",
    "A variable name can be a combitaion of alphanumric and underscore but first letter of the variable should be either an alphabet or underscore(_). \n",
    "thats why eggs is valid variable name where as 100 is invalid variable name"
   ]
  },
  {
   "cell_type": "markdown",
   "id": "5d47e9ef-81b9-464f-a3ee-e5fc267a591d",
   "metadata": {},
   "source": [
    "9. What three functions can be used to get the integer, floating-point number, or string\n",
    "version of a value?\n",
    "\n",
    "print(), input(), and by calling a variable name itself can give the value of the variable\n"
   ]
  },
  {
   "cell_type": "markdown",
   "id": "b9162a5b-3a4b-4cd6-8687-698318fb80b0",
   "metadata": {},
   "source": [
    "10. Why does this expression cause an error? How can you fix it?\n",
    "'I have eaten' + 99 + 'burritos.'\n",
    "\n",
    "we can not concantenate string to integers that's why it is causing an error. \n",
    "we can convert the integer to string so that it will execute\n",
    "'I have eaten' + '99' + 'burritos.'\n",
    "'I have eaten' + str(99) + 'burritos.'\n",
    "\n"
   ]
  }
 ],
 "metadata": {
  "kernelspec": {
   "display_name": "Python 3 (ipykernel)",
   "language": "python",
   "name": "python3"
  },
  "language_info": {
   "codemirror_mode": {
    "name": "ipython",
    "version": 3
   },
   "file_extension": ".py",
   "mimetype": "text/x-python",
   "name": "python",
   "nbconvert_exporter": "python",
   "pygments_lexer": "ipython3",
   "version": "3.10.6"
  }
 },
 "nbformat": 4,
 "nbformat_minor": 5
}
