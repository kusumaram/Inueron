{
 "cells": [
  {
   "cell_type": "markdown",
   "id": "6175e87b-fa92-4e31-b3a1-843f48252b30",
   "metadata": {},
   "source": [
    "1. What exactly is []?\n",
    "\n",
    "It is an empty List"
   ]
  },
  {
   "cell_type": "markdown",
   "id": "df3fb330-24ae-4599-9905-89e83b562ab5",
   "metadata": {},
   "source": [
    "2. In a list of values stored in a variable called spam, how would you assign the value 'hello' as the\n",
    "third value? (Assume [2, 4, 6, 8, 10] are in spam.)\n",
    "\n",
    "spam[2] = 'hello'"
   ]
  },
  {
   "cell_type": "markdown",
   "id": "d5625b6b-cfef-4b50-9c3f-ba9df29740c2",
   "metadata": {},
   "source": [
    "Let's pretend the spam includes the list [a, b, c, d] for the next three queries.\n",
    "\n",
    "3. What is the value of spam[int(int('3' * 2) / 11)]?          ==> spam[3] = 'd'\n",
    "4. What is the value of spam[-1]?                              ==> spam[-1] = 'd'\n",
    "5. What is the value of spam[:2]?                              ==> spam[:2] = ['a', 'b']"
   ]
  },
  {
   "cell_type": "markdown",
   "id": "85e24d47-0dc0-4af2-b659-b3bf55ec5c71",
   "metadata": {},
   "source": [
    "Let's pretend bacon has the list [3.14, 'cat', 11,'cat', True] for the next three questions.\n",
    "6. What is the value of bacon.index('cat')?                                  ==> bacon.index('cat') = 1\n",
    "7. How does bacon.append(99) change the look of the list value in bacon?     ==> [3.14, 'cat', 11, 'cat', True, 99]\n",
    "8. How does bacon.remove('cat') change the look of the list in bacon?        ==> [3.14, 11, 'cat', True]"
   ]
  },
  {
   "cell_type": "markdown",
   "id": "29b5b3f9-2b4f-49be-86c4-9fed19ac2dff",
   "metadata": {},
   "source": [
    "9. What are the list concatenation and list replication operators?\n",
    "\n",
    "list concatenation operator is '+'\n",
    "list replication operator is '*'"
   ]
  },
  {
   "cell_type": "code",
   "execution_count": 9,
   "id": "fa926746-7695-4a27-b01b-4dca2f342a25",
   "metadata": {},
   "outputs": [
    {
     "name": "stdout",
     "output_type": "stream",
     "text": [
      "[1, 2, 3, 1, 2, 3]\n"
     ]
    }
   ],
   "source": [
    "l1 = [1,2,3]\n",
    "l2 = [4,5,6]\n",
    "print(f'concatenation of 2 lists are: \\n {l1+l2}')\n",
    "print(f'repeation of list l1 is: \\n {l1*2}')"
   ]
  },
  {
   "cell_type": "markdown",
   "id": "ad21db0c-b2c3-48f4-9b7a-862817cb409d",
   "metadata": {},
   "source": [
    "10. What is difference between the list methods append() and insert()?\n",
    "\n",
    "append() method will add an item at the end of a list.\n",
    "insert() method will add an item at a specified index of a list. It takes two parameters position and item to add to the list."
   ]
  },
  {
   "cell_type": "code",
   "execution_count": 11,
   "id": "d55dcde4-1a77-46de-a7a8-6c3789f6886d",
   "metadata": {},
   "outputs": [
    {
     "name": "stdout",
     "output_type": "stream",
     "text": [
      "[1, 'hi', 2, 3, 45, 45]\n"
     ]
    }
   ],
   "source": [
    "l1.append(45)\n",
    "l1.insert(1, 'hi')\n",
    "print(l1)\n"
   ]
  },
  {
   "cell_type": "markdown",
   "id": "4aa39186-6d70-4f71-99e2-5cb631dfd542",
   "metadata": {},
   "source": [
    "11. What are the two methods for removing items from a list?\n",
    "\n",
    "we have two methods to remove items for a list are:\n",
    "pop():\n",
    "     this method takes index of the item to remove if not specified it will remove last item from the list\n",
    "remove():\n",
    "    this method remove specified item from the list."
   ]
  },
  {
   "cell_type": "code",
   "execution_count": null,
   "id": "e75fa130-afa0-4637-ac3f-b1ff2b9d13d7",
   "metadata": {},
   "outputs": [],
   "source": [
    "l1.pop()\n",
    "l1.remove('hi')\n",
    "print(l1)"
   ]
  },
  {
   "cell_type": "markdown",
   "id": "a4f47d7a-4cfe-49ac-9601-616cdd631b62",
   "metadata": {},
   "source": [
    "12. Describe how list values and string values are identical.\n",
    "\n",
    "* list values and string values are positioned and accessed by indeces.\n",
    "* we can loop through the items of the list and string\n",
    "* using len() function we can find how many elements are in the list and string"
   ]
  },
  {
   "cell_type": "markdown",
   "id": "a8b16e58-a998-42b5-bc53-14b2e1dba662",
   "metadata": {},
   "source": [
    "13. What's the difference between tuples and lists?\n",
    "\n",
    "* lists are mutable where as tuples are immutable which means we can't insert, delet or change the posotion of the elements in tuples. "
   ]
  },
  {
   "cell_type": "markdown",
   "id": "835e7858-5374-4d24-b9bd-f6e920668f46",
   "metadata": {},
   "source": [
    "14. How do you type a tuple value that only contains the integer 42?\n",
    "\n",
    "\n",
    "t = (42)"
   ]
  },
  {
   "cell_type": "markdown",
   "id": "47ef9cfd-00c3-486a-ace3-3639e004a56b",
   "metadata": {},
   "source": [
    "15. How do you get a list value's tuple form? How do you get a tuple value's list form?\n",
    "\n",
    "By casting. for example\n"
   ]
  },
  {
   "cell_type": "code",
   "execution_count": 12,
   "id": "52e007d0-1c7a-49f2-85ef-cf62fc024a08",
   "metadata": {},
   "outputs": [
    {
     "name": "stdout",
     "output_type": "stream",
     "text": [
      "(1, 2, 3)\n"
     ]
    }
   ],
   "source": [
    "l = [1,2,3]\n",
    "t = tuple(l)\n",
    "print(t)\n",
    "new_l = list(t)\n",
    "print(new_l)"
   ]
  },
  {
   "cell_type": "markdown",
   "id": "5a498137-93b5-457a-bffc-4b065c992da2",
   "metadata": {},
   "source": [
    "16. Variables that \"contain\" list values are not necessarily lists themselves. Instead, what do they\n",
    "contain?\n",
    "\n",
    "List can contain any data types and can contain nested lists i.e. another list and tuple and set and dictionary "
   ]
  },
  {
   "cell_type": "markdown",
   "id": "1b66be43-83ba-4a95-a708-166040750136",
   "metadata": {},
   "source": [
    "17. How do you distinguish between copy.copy() and copy.deepcopy()?\n",
    "\n",
    "copy.copy() will create new object and insert the references into it of the original object. if you have another collection inside your original list then it just copies the reference of it,\n",
    "then operations you did on inner collection it will affect on copied list.\n",
    "\n",
    "copy.deepcopy() will create new object and insert copies into it of the original object."
   ]
  },
  {
   "cell_type": "code",
   "execution_count": 16,
   "id": "a9a9659a-d9c5-4414-a567-010ec0a85b3f",
   "metadata": {},
   "outputs": [
    {
     "name": "stdout",
     "output_type": "stream",
     "text": [
      "140262695250944\n",
      "140262695250944\n",
      "[1, 2, 3] [1, 2, 3]\n"
     ]
    }
   ],
   "source": [
    "l1 = [1, 2, 3, 4]\n",
    "l2 = l1\n",
    "print(f'{id(l1)}\\n{id(l2)}')\n",
    "l1.pop()\n",
    "print(l1,l2)"
   ]
  },
  {
   "cell_type": "code",
   "execution_count": 14,
   "id": "0887b69d-86f2-4875-b8b6-716ef5e2d192",
   "metadata": {},
   "outputs": [
    {
     "name": "stdout",
     "output_type": "stream",
     "text": [
      "140119469711296 140119469605760\n",
      "[1, 2, [5, 'hi'], 3, 4]\n",
      "[1, 2, [5, 'hi'], 3, 4]\n",
      "140119469608896 140119469275456\n",
      "[1, 2, 3, 4, ['hi', 6]]\n",
      "[1, 2, 3, 4, [5, 6]]\n"
     ]
    }
   ],
   "source": [
    "import copy\n",
    "#shallow copy\n",
    "l1 = [1, 2, [5,5], 3, 4]\n",
    "new_l = copy.copy(l1)\n",
    "print(id(l1), id(new_l))\n",
    "l1[2][1] = 'hi'\n",
    "print(l1)\n",
    "print(new_l)\n",
    "\n",
    "\n",
    "##deep copy\n",
    "l1 = [1, 2, 3, 4, [5,6]]\n",
    "new_l1 = copy.deepcopy(l1)\n",
    "print(id(l1), id(new_l1))\n",
    "l1[-1][0] = 'hi'\n",
    "print(l1)\n",
    "print(new_l1)"
   ]
  }
 ],
 "metadata": {
  "kernelspec": {
   "display_name": "Python 3 (ipykernel)",
   "language": "python",
   "name": "python3"
  },
  "language_info": {
   "codemirror_mode": {
    "name": "ipython",
    "version": 3
   },
   "file_extension": ".py",
   "mimetype": "text/x-python",
   "name": "python",
   "nbconvert_exporter": "python",
   "pygments_lexer": "ipython3",
   "version": "3.10.6"
  }
 },
 "nbformat": 4,
 "nbformat_minor": 5
}
