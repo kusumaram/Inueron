{
 "cells": [
  {
   "cell_type": "markdown",
   "id": "f98da210-5562-4b0e-a4b0-786fd8f2f02d",
   "metadata": {},
   "source": [
    "1.What are the two values of the Boolean data type? How do you write them?\n",
    "\n",
    "The two values of boolean data type are True and False.\n",
    "b = True"
   ]
  },
  {
   "cell_type": "markdown",
   "id": "cc4296a9-aa0c-43a1-88a1-ef43dc19111c",
   "metadata": {},
   "source": [
    "2. What are the three different types of Boolean operators?\n",
    "\n",
    "The three different types of Boolean operators are 'and', 'or' and 'not"
   ]
  },
  {
   "cell_type": "markdown",
   "id": "f3fbe325-a5bd-4568-bd77-fb49a2cc551a",
   "metadata": {},
   "source": [
    "3. Make a list of each Boolean operator's truth tables (i.e. every possible combination of Boolean\n",
    "values for the operator and what it evaluate ).\n",
    "\n",
    "AND truth table:\n",
    "\n",
    "| Expression | Expression | Result |\n",
    "| ----- | ------ | ------ |\n",
    "| True | True | True |\n",
    "| True | False | False |\n",
    "| False | True | False |\n",
    "| False | False | False |\n",
    "\n",
    "OR truth table:\n",
    "\n",
    "| Expression | Expression | Result |\n",
    "| ----- | ------ | ------ |\n",
    "| True | True | True |\n",
    "| True | False | True |\n",
    "| False | True | True |\n",
    "| False | False | False |\n",
    "\n",
    "NOT truth table:\n",
    "\n",
    "| Expression | Result |\n",
    "| ----- | ------ |\n",
    "| True | False |\n",
    "| False | True |\n",
    "\n",
    "\n"
   ]
  },
  {
   "cell_type": "markdown",
   "id": "fe553aaf-b8a7-468e-9944-a960a5375d7c",
   "metadata": {},
   "source": [
    "4. What are the values of the following expressions?\n",
    "(5 > 4) and (3 == 5)                       ==> False\n",
    "not (5 > 4)                                ==> False\n",
    "(5 > 4) or (3 == 5)                        ==> True\n",
    "not ((5 > 4) or (3 == 5))                  ==> False\n",
    "(True and True) and (True == False)        ==> False\n",
    "(not False) or (not True)                  ==> True"
   ]
  },
  {
   "cell_type": "markdown",
   "id": "61aea500-1bdb-4b62-9e03-5ca010ccf746",
   "metadata": {},
   "source": [
    "5. What are the six comparison operators?\n",
    "\n",
    "* Equal to (==)\n",
    "* not equal to (!=)\n",
    "* less than (<)\n",
    "* grater than (>)\n",
    "* less than or equal to (<=)\n",
    "* grater than or equal to (>=)"
   ]
  },
  {
   "cell_type": "markdown",
   "id": "f50007de-5661-407b-b54f-c77fcbcf8264",
   "metadata": {},
   "source": [
    "6. How do you tell the difference between the equal to and assignment operators?Describe a\n",
    "condition and when you would use one.\n",
    "\n",
    "for equal to operator we use two equals (==), where as for assignment operator we use single equals(=).\n",
    "example:\n",
    "\n",
    "* b==3 here it is comparing the value of b variable, if it is same it will return TRUE otherwise returns FALSE\n",
    "* b =3 here it is assigning 3 value to b variable"
   ]
  },
  {
   "cell_type": "markdown",
   "id": "141d3af6-d318-46ec-a4ea-c520e0599643",
   "metadata": {},
   "source": [
    "7. Identify the three blocks in this code:\n",
    "spam = 0\n",
    "if spam == 10:\n",
    "    print('eggs')\n",
    "if spam > 5:\n",
    "    print('bacon')\n",
    "else:\n",
    "    print('ham')\n",
    "print('spam')\n",
    "print('spam')\n",
    "\n",
    "\n",
    "In the above code block, there are 2 if blocks and 1 else block of code presented."
   ]
  },
  {
   "cell_type": "markdown",
   "id": "cdf57b35-248b-423d-a5fd-ceee9762b0b3",
   "metadata": {},
   "source": [
    "8. Write code that prints Hello if 1 is stored in spam, prints Howdy if 2 is stored in spam, and prints\n",
    "Greetings! if anything else is stored in spam.\n",
    "\n"
   ]
  },
  {
   "cell_type": "code",
   "execution_count": null,
   "id": "2f1c0d37-99a1-4b18-b509-5e50fa72424b",
   "metadata": {},
   "outputs": [],
   "source": [
    "spam = int(input(\"enter a number: \"))\n",
    "\n",
    "# checking functionality\n",
    "if spam == 1:\n",
    "    print('Hello')\n",
    "elif spam == 2:\n",
    "    print('Howdy')\n",
    "else:\n",
    "    print('Greetings!')"
   ]
  },
  {
   "cell_type": "markdown",
   "id": "335e5b1e-3a0b-47b1-a214-4af1bcd088f2",
   "metadata": {},
   "source": [
    "9.If your programme is stuck in an endless loop, what keys you’ll press?\n",
    "\n",
    "ctrl + c "
   ]
  },
  {
   "cell_type": "markdown",
   "id": "46fde866-9121-4b5e-b53e-9531223a1bd7",
   "metadata": {},
   "source": [
    "10. How can you tell the difference between break and continue?\n",
    "\n",
    "break is a keyword which terminates a loop block and goes to next first statement after the loop block.\n",
    "\n",
    "continue is a keyword which breaks current iteration of a loop and continue loop block if evaluated condition is true."
   ]
  },
  {
   "cell_type": "markdown",
   "id": "2ebdb406-ce4d-42de-868e-2b4f147ddfd0",
   "metadata": {},
   "source": [
    "11. In a for loop, what is the difference between range(10), range(0, 10), and range(0, 10, 1)?\n",
    "\n",
    "All the above range fuctions are same because \n",
    "* the lower boundary is always 0 if not specified\n",
    "* the upper boundary is 10 in all above range functions and 10 is excluded.\n",
    "* step size is always 1 unless specified"
   ]
  },
  {
   "cell_type": "markdown",
   "id": "cb96494a-7fa9-46fc-b591-4c584cbe468d",
   "metadata": {},
   "source": [
    "12. Write a short program that prints the numbers 1 to 10 using a for loop. Then write an equivalent\n",
    "program that prints the numbers 1 to 10 using a while loop."
   ]
  },
  {
   "cell_type": "code",
   "execution_count": 10,
   "id": "0beed0e8-ec4b-4ebf-99ca-154d2c34e7c2",
   "metadata": {},
   "outputs": [
    {
     "name": "stdout",
     "output_type": "stream",
     "text": [
      "1\n",
      "2\n",
      "3\n",
      "4\n",
      "5\n",
      "6\n",
      "7\n",
      "8\n",
      "9\n",
      "10\n",
      "***********************\n",
      "1\n",
      "2\n",
      "3\n",
      "4\n",
      "5\n",
      "6\n",
      "7\n",
      "8\n",
      "9\n",
      "10\n"
     ]
    }
   ],
   "source": [
    "for i in range(1,11):\n",
    "    print(i)\n",
    "print('***********************')\n",
    "i=1\n",
    "while i in range(11):\n",
    "    print(i)\n",
    "    i += 1"
   ]
  },
  {
   "cell_type": "code",
   "execution_count": null,
   "id": "91d55664-9a95-410c-b51b-b5c2e8784e62",
   "metadata": {},
   "outputs": [],
   "source": [
    "13. If you had a function named bacon() inside a module named spam, how would you call it after\n",
    "importing spam?\n",
    "\n",
    "spam.bacon()"
   ]
  }
 ],
 "metadata": {
  "kernelspec": {
   "display_name": "Python 3 (ipykernel)",
   "language": "python",
   "name": "python3"
  },
  "language_info": {
   "codemirror_mode": {
    "name": "ipython",
    "version": 3
   },
   "file_extension": ".py",
   "mimetype": "text/x-python",
   "name": "python",
   "nbconvert_exporter": "python",
   "pygments_lexer": "ipython3",
   "version": "3.10.6"
  }
 },
 "nbformat": 4,
 "nbformat_minor": 5
}
